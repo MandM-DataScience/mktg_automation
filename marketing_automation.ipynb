{
 "cells": [
  {
   "cell_type": "markdown",
   "id": "4b0cb58e-2818-4592-81dc-15c66834ecd4",
   "metadata": {},
   "source": [
    "# Marketing Automation Project\n",
    "\n",
    "If you want to try the tool without delving into the technical stuff, visit our frontend website:\n",
    "\n",
    "https://smark-frontend.vercel.app/\n",
    "\n",
    "## Goal\n",
    "\n",
    "We want to build a tool to assist startups and small businesses in crafting business and marketing plans, as well as generating compelling marketing material.\n",
    "\n",
    "We harness the power of GPT-3.5 and GPT-4 for content generation.\n",
    "They are available via OpenAI APIs.\n",
    "\n",
    "https://platform.openai.com/docs/models/overview\n",
    "\n",
    "Some of the features we intended to include:\n",
    "- Business Plan Generation\n",
    "- Marketing Plan Generation\n",
    "- Website Generation\n",
    "- Products' Landing Page Generation\n",
    "- Blog Articles Generation\n",
    "- Social Media Post Generation\n",
    "- Social Media Ads Generation\n",
    "- Email Marketing Generation"
   ]
  },
  {
   "cell_type": "markdown",
   "id": "976bf4bc-c6aa-4320-87a0-365a3e11c39d",
   "metadata": {},
   "source": [
    "## Table of Contents\n",
    "\n",
    "1. [OpenAI API](#openai)\n",
    "2. [FastAPI (+Uvicorn)](#fastapi)\n",
    "3. [AWS App Runner](#apprunner)\n",
    "4. [NextJS](#nextjs)\n",
    "5. [Social Management](#social)\n",
    "6. [Email Management](#email)"
   ]
  },
  {
   "cell_type": "markdown",
   "id": "b02432d6-73ca-4aab-a44b-02baf1603e47",
   "metadata": {},
   "source": [
    "<a id='openai'></a>\n",
    "### OpenAI API\n",
    "\n",
    "All the content for our tool is generated using OpenAI models, which power the \n",
    "\n",
    "First thing, we need to install openAI and get an API key.\n",
    "\n",
    "https://platform.openai.com/account/api-keys\n",
    "\n",
    "If you want to follow our architecture you also need the dotenv package as we will use a .env file to store our api keys in environmental variables."
   ]
  },
  {
   "cell_type": "code",
   "execution_count": 1,
   "id": "68c202dd-a636-4210-8bbf-92798633c001",
   "metadata": {},
   "outputs": [
    {
     "name": "stdout",
     "output_type": "stream",
     "text": [
      "Requirement already satisfied: openai in c:\\users\\marco\\pycharmprojects\\marketing_automation\\venv_38_aws\\lib\\site-packages (0.27.8)\n",
      "Requirement already satisfied: python-dotenv in c:\\users\\marco\\pycharmprojects\\marketing_automation\\venv_38_aws\\lib\\site-packages (1.0.0)\n",
      "Requirement already satisfied: requests>=2.20 in c:\\users\\marco\\pycharmprojects\\marketing_automation\\venv_38_aws\\lib\\site-packages (from openai) (2.28.2)\n",
      "Requirement already satisfied: aiohttp in c:\\users\\marco\\pycharmprojects\\marketing_automation\\venv_38_aws\\lib\\site-packages (from openai) (3.8.4)\n",
      "Requirement already satisfied: tqdm in c:\\users\\marco\\pycharmprojects\\marketing_automation\\venv_38_aws\\lib\\site-packages (from openai) (4.65.0)\n",
      "Requirement already satisfied: charset-normalizer<4,>=2 in c:\\users\\marco\\pycharmprojects\\marketing_automation\\venv_38_aws\\lib\\site-packages (from requests>=2.20->openai) (3.2.0)\n",
      "Requirement already satisfied: idna<4,>=2.5 in c:\\users\\marco\\pycharmprojects\\marketing_automation\\venv_38_aws\\lib\\site-packages (from requests>=2.20->openai) (3.4)\n",
      "Requirement already satisfied: certifi>=2017.4.17 in c:\\users\\marco\\pycharmprojects\\marketing_automation\\venv_38_aws\\lib\\site-packages (from requests>=2.20->openai) (2023.5.7)\n",
      "Requirement already satisfied: urllib3<1.27,>=1.21.1 in c:\\users\\marco\\pycharmprojects\\marketing_automation\\venv_38_aws\\lib\\site-packages (from requests>=2.20->openai) (1.26.16)\n",
      "Requirement already satisfied: frozenlist>=1.1.1 in c:\\users\\marco\\pycharmprojects\\marketing_automation\\venv_38_aws\\lib\\site-packages (from aiohttp->openai) (1.4.0)\n",
      "Requirement already satisfied: multidict<7.0,>=4.5 in c:\\users\\marco\\pycharmprojects\\marketing_automation\\venv_38_aws\\lib\\site-packages (from aiohttp->openai) (6.0.4)\n",
      "Requirement already satisfied: yarl<2.0,>=1.0 in c:\\users\\marco\\pycharmprojects\\marketing_automation\\venv_38_aws\\lib\\site-packages (from aiohttp->openai) (1.9.2)\n",
      "Requirement already satisfied: attrs>=17.3.0 in c:\\users\\marco\\pycharmprojects\\marketing_automation\\venv_38_aws\\lib\\site-packages (from aiohttp->openai) (23.1.0)\n",
      "Requirement already satisfied: aiosignal>=1.1.2 in c:\\users\\marco\\pycharmprojects\\marketing_automation\\venv_38_aws\\lib\\site-packages (from aiohttp->openai) (1.3.1)\n",
      "Requirement already satisfied: async-timeout<5.0,>=4.0.0a3 in c:\\users\\marco\\pycharmprojects\\marketing_automation\\venv_38_aws\\lib\\site-packages (from aiohttp->openai) (4.0.2)\n",
      "Requirement already satisfied: colorama in c:\\users\\marco\\pycharmprojects\\marketing_automation\\venv_38_aws\\lib\\site-packages (from tqdm->openai) (0.4.4)\n"
     ]
    },
    {
     "name": "stderr",
     "output_type": "stream",
     "text": [
      "\n",
      "[notice] A new release of pip available: 22.3.1 -> 23.2.1\n",
      "[notice] To update, run: python.exe -m pip install --upgrade pip\n"
     ]
    }
   ],
   "source": [
    "!pip install openai python-dotenv\n",
    "\n",
    "from dotenv import load_dotenv\n",
    "load_dotenv()\n",
    "\n",
    "import openai\n",
    "import os\n",
    "openai.api_key = os.environ.get(\"OPEN_AI_API_KEY\")"
   ]
  },
  {
   "cell_type": "markdown",
   "id": "3f6b4c38-6c87-4d2f-9b56-a4994179a132",
   "metadata": {},
   "source": [
    "Let's now try to send a request."
   ]
  },
  {
   "cell_type": "code",
   "execution_count": 2,
   "id": "51b36ef6-5850-46e6-ad90-85c7a894b4fe",
   "metadata": {},
   "outputs": [
    {
     "data": {
      "text/plain": [
       "<OpenAIObject chat.completion id=chatcmpl-7kwgUiWzfG75VPUYkiluXSYyfSBmE at 0x295ca563e50> JSON: {\n",
       "  \"id\": \"chatcmpl-7kwgUiWzfG75VPUYkiluXSYyfSBmE\",\n",
       "  \"object\": \"chat.completion\",\n",
       "  \"created\": 1691423026,\n",
       "  \"model\": \"gpt-3.5-turbo-0613\",\n",
       "  \"choices\": [\n",
       "    {\n",
       "      \"index\": 0,\n",
       "      \"message\": {\n",
       "        \"role\": \"assistant\",\n",
       "        \"content\": \"It is subjective to determine which country has the best food in the world, as personal preferences vary. However, several countries are renowned for their culinary traditions and are often mentioned as having exceptional food. These include Italy for its pasta and pizza, France for its gourmet cuisine, Japan for its sushi and sashimi, India for its diverse and flavorful dishes, and Mexico for its vibrant and spicy cuisine. Ultimately, the best food is a matter of individual taste and exploration.\"\n",
       "      },\n",
       "      \"finish_reason\": \"stop\"\n",
       "    }\n",
       "  ],\n",
       "  \"usage\": {\n",
       "    \"prompt_tokens\": 18,\n",
       "    \"completion_tokens\": 94,\n",
       "    \"total_tokens\": 112\n",
       "  }\n",
       "}"
      ]
     },
     "execution_count": 2,
     "metadata": {},
     "output_type": "execute_result"
    }
   ],
   "source": [
    "prompt = \"\"\"\n",
    "Which country has the best food in the world?\n",
    "\"\"\"\n",
    "\n",
    "result = openai.ChatCompletion.create(\n",
    "    model=\"gpt-3.5-turbo\", # this is the model that powers ChatGPT\n",
    "    messages=[{\"role\": \"user\", \"content\": prompt}],\n",
    ")\n",
    "result"
   ]
  },
  {
   "cell_type": "markdown",
   "id": "b1372744-5034-448c-84d1-47533396b533",
   "metadata": {},
   "source": [
    "While the answer from the model may vary, we all know the country with the best food in the world is Italy :P\n",
    "\n",
    "Anyway to use the model output further in our code we need to be more specific in our prompt and ask for a structured output."
   ]
  },
  {
   "cell_type": "code",
   "execution_count": 3,
   "id": "fd5d2be2-0f7f-4fa5-b0d5-b731487d1731",
   "metadata": {},
   "outputs": [
    {
     "data": {
      "text/plain": [
       "<OpenAIObject chat.completion id=chatcmpl-7kwgZtaGfXiXRrJY7Qzi1u2peVFbH at 0x295ea0e2810> JSON: {\n",
       "  \"id\": \"chatcmpl-7kwgZtaGfXiXRrJY7Qzi1u2peVFbH\",\n",
       "  \"object\": \"chat.completion\",\n",
       "  \"created\": 1691423031,\n",
       "  \"model\": \"gpt-3.5-turbo-0613\",\n",
       "  \"choices\": [\n",
       "    {\n",
       "      \"index\": 0,\n",
       "      \"message\": {\n",
       "        \"role\": \"assistant\",\n",
       "        \"content\": \"{\\n  \\\"country\\\": \\\"Italy\\\"\\n}\"\n",
       "      },\n",
       "      \"finish_reason\": \"stop\"\n",
       "    }\n",
       "  ],\n",
       "  \"usage\": {\n",
       "    \"prompt_tokens\": 36,\n",
       "    \"completion_tokens\": 9,\n",
       "    \"total_tokens\": 45\n",
       "  }\n",
       "}"
      ]
     },
     "execution_count": 3,
     "metadata": {},
     "output_type": "execute_result"
    }
   ],
   "source": [
    "prompt = \"\"\"\n",
    "Which country has the best food in the world?\n",
    "Write only a json in your response with key 'country' and value the country chosen.\n",
    "\"\"\"\n",
    "\n",
    "result = openai.ChatCompletion.create(\n",
    "    model=\"gpt-3.5-turbo\", # this is the model that powers ChatGPT\n",
    "    messages=[{\"role\": \"user\", \"content\": prompt}],\n",
    ")\n",
    "result"
   ]
  },
  {
   "cell_type": "markdown",
   "id": "dc30b591-f40d-4624-b868-6f58a2f16e8b",
   "metadata": {},
   "source": [
    "Now we can access the structured response and use/store it.\n",
    "\n",
    "The answer is always a string so we can use the 'eval' function to tell python to interpret the string as code and give us a dictionary!"
   ]
  },
  {
   "cell_type": "code",
   "execution_count": 4,
   "id": "88fc0ffe-0570-4a6c-917c-51969b15fc01",
   "metadata": {},
   "outputs": [
    {
     "data": {
      "text/plain": [
       "{'country': 'Italy'}"
      ]
     },
     "execution_count": 4,
     "metadata": {},
     "output_type": "execute_result"
    }
   ],
   "source": [
    "answer = eval(result[\"choices\"][0][\"message\"][\"content\"])\n",
    "answer"
   ]
  },
  {
   "cell_type": "markdown",
   "id": "313d2ec9-0b2d-4068-aa8e-4bde40cd0646",
   "metadata": {},
   "source": [
    "This \"trick\" is actually the backbone of the whole project.\n",
    "\n",
    "We can store a multitude of prompts to be used and retrieve the generated content from the OpenAI response.\n",
    "\n",
    "As an example let's see how we can generate a list of suggested business names."
   ]
  },
  {
   "cell_type": "code",
   "execution_count": 5,
   "id": "cdb151fe-2282-468a-b205-baff1e476afa",
   "metadata": {
    "scrolled": true
   },
   "outputs": [
    {
     "data": {
      "text/plain": [
       "['Garden Delights',\n",
       " 'The Veggie Patch',\n",
       " 'Nurturing Nature',\n",
       " 'Harvest Haven',\n",
       " 'Sow and Grow',\n",
       " 'Green Thumb Gardens',\n",
       " 'Bounty From Earth',\n",
       " 'The Seedling Sanctuary',\n",
       " 'Food for Thought',\n",
       " 'Cultivating Connections']"
      ]
     },
     "execution_count": 5,
     "metadata": {},
     "output_type": "execute_result"
    }
   ],
   "source": [
    "project_root = os.path.dirname(os.getcwd())\n",
    "PROMPT_FOLDER = os.path.join(project_root, 'prompt')\n",
    "\n",
    "# we need to define some variables to be used in the prompt\n",
    "language = \"english\"\n",
    "business_description = \"\"\"\n",
    "My name is George Cannels and I've always had a green thumb. \n",
    "I have always had a vegetable garden and the people of the village come to me to get fruit, vegetables or seedlings. \n",
    "Since I'm retired now, I'd like to cultivate this passion of mine more and give the opportunity to let as many people \n",
    "as possible taste the products from my garden, as well as teaching others who can carry on my passion.\n",
    "\"\"\"\n",
    "\n",
    "with open(os.path.join(PROMPT_FOLDER, 'generate_business_names'), 'r') as file:\n",
    "\n",
    "    # prompt is stored as a f-string\n",
    "    prompt = eval(file.read())\n",
    "\n",
    "result = openai.ChatCompletion.create(\n",
    "    model=\"gpt-3.5-turbo\",\n",
    "    messages=[{\"role\": \"user\", \"content\": prompt}],\n",
    ")\n",
    "names = eval(result[\"choices\"][0][\"message\"][\"content\"])\n",
    "names[\"business_names\"]"
   ]
  },
  {
   "cell_type": "markdown",
   "id": "12675a18-694f-4196-88d4-e18ef07dae36",
   "metadata": {},
   "source": [
    "<a id='fastapi'></a>\n",
    "### FastAPI (+Uvicorn)\n",
    "\n",
    "FastAPI is a modern, fast (high-performance), web framework for building APIs with Python 3.7+.\n",
    "\n",
    "https://fastapi.tiangolo.com/\n",
    "\n",
    "Uvicorn is an ASGI web server implementation for Python.\n",
    "\n",
    "https://www.uvicorn.org/\n",
    "\n",
    "Let's start by installing the required packages."
   ]
  },
  {
   "cell_type": "code",
   "execution_count": 6,
   "id": "cdef405f-3124-4ac8-8e19-4ec69cebb23e",
   "metadata": {},
   "outputs": [
    {
     "name": "stdout",
     "output_type": "stream",
     "text": [
      "Requirement already satisfied: fastapi in c:\\users\\marco\\pycharmprojects\\marketing_automation\\venv_38_aws\\lib\\site-packages (0.98.0)\n",
      "Requirement already satisfied: starlette<0.28.0,>=0.27.0 in c:\\users\\marco\\pycharmprojects\\marketing_automation\\venv_38_aws\\lib\\site-packages (from fastapi) (0.27.0)\n",
      "Requirement already satisfied: pydantic!=1.8,!=1.8.1,<2.0.0,>=1.7.4 in c:\\users\\marco\\pycharmprojects\\marketing_automation\\venv_38_aws\\lib\\site-packages (from fastapi) (1.10.11)\n",
      "Requirement already satisfied: typing-extensions>=4.2.0 in c:\\users\\marco\\pycharmprojects\\marketing_automation\\venv_38_aws\\lib\\site-packages (from pydantic!=1.8,!=1.8.1,<2.0.0,>=1.7.4->fastapi) (4.4.0)\n",
      "Requirement already satisfied: anyio<5,>=3.4.0 in c:\\users\\marco\\pycharmprojects\\marketing_automation\\venv_38_aws\\lib\\site-packages (from starlette<0.28.0,>=0.27.0->fastapi) (3.7.1)\n",
      "Requirement already satisfied: idna>=2.8 in c:\\users\\marco\\pycharmprojects\\marketing_automation\\venv_38_aws\\lib\\site-packages (from anyio<5,>=3.4.0->starlette<0.28.0,>=0.27.0->fastapi) (3.4)\n",
      "Requirement already satisfied: sniffio>=1.1 in c:\\users\\marco\\pycharmprojects\\marketing_automation\\venv_38_aws\\lib\\site-packages (from anyio<5,>=3.4.0->starlette<0.28.0,>=0.27.0->fastapi) (1.3.0)\n",
      "Requirement already satisfied: exceptiongroup in c:\\users\\marco\\pycharmprojects\\marketing_automation\\venv_38_aws\\lib\\site-packages (from anyio<5,>=3.4.0->starlette<0.28.0,>=0.27.0->fastapi) (1.1.2)\n"
     ]
    },
    {
     "name": "stderr",
     "output_type": "stream",
     "text": [
      "\n",
      "[notice] A new release of pip available: 22.3.1 -> 23.2.1\n",
      "[notice] To update, run: python.exe -m pip install --upgrade pip\n"
     ]
    }
   ],
   "source": [
    "!pip install fastapi\n",
    "import fastapi"
   ]
  },
  {
   "cell_type": "markdown",
   "id": "14f405d3-928c-4edf-bd7f-0a6de275ac6e",
   "metadata": {},
   "source": [
    "Creating an app and its endpoints is super easy with FastAPI."
   ]
  },
  {
   "cell_type": "code",
   "execution_count": 7,
   "id": "d5cb5f87-3ea9-45b0-ae67-e27b872ee0c2",
   "metadata": {},
   "outputs": [],
   "source": [
    "from fastapi import FastAPI\n",
    "\n",
    "app = FastAPI()\n",
    "\n",
    "@app.get(\"/\")\n",
    "async def root():\n",
    "    return {\"Hello\": \"World\"}"
   ]
  },
  {
   "cell_type": "markdown",
   "id": "ea73ce69-57f1-49fb-ad39-1398a4f0390d",
   "metadata": {},
   "source": [
    "We can run the Uvicorn webserver using the command: <code>uvicorn main:app</code> in our terminal.\n",
    "\n",
    "For development is possible to add the --reload command, which reloads automatically the server whenever we make changes to the code.\n",
    "\n",
    "<code>uvicorn main:app --reload</code>\n",
    "\n",
    "Uvicorn default settings are host: 127.0.0.1 and port 8000. We can change those passing --host and --port parameters.\n",
    "\n",
    "We can also specify the number of worker processes passing the parameter --workers.\n",
    "\n",
    "So for a production environment the command will look something like this:\n",
    "\n",
    "<code>uvicorn main:app --host 0.0.0.0 --port 80 --workers 10</code>"
   ]
  },
  {
   "cell_type": "markdown",
   "id": "c4f2e885-1dfe-41cd-9b34-2a7f6e1627b5",
   "metadata": {},
   "source": [
    "<a id='apprunner'></a>\n",
    "### AWS App Runner\n",
    "\n",
    "We have a running instance of our web server on AWS App Runner.\n",
    "\n",
    "https://aws.amazon.com/apprunner/\n",
    "\n",
    "App Runner allows to build, deploy and run web applications and API services.\n",
    "\n",
    "It will build a containerized application directly from our source code and every time we push new code it will rebuild our application.\n",
    "\n",
    "Alternatively you can upload your container image on Amazon ECR (Elastic Container Registry) and build the application from your image.\n",
    "\n",
    "You can also create a configuration file (apprunner.yaml) where you can specify various settings:\n",
    "- Runtime and version\n",
    "- Network configuration\n",
    "- Build commands (like pip install -r requirements.txt for installing your required packages)\n",
    "- Run commands (in our case we launch uvicorn as shown before)\n",
    "- Secrets (app secrets are loaded as environment variables that we can access in our code). These are NOT to be saved in plain text in the yaml file, but instead should be saved and loaded using AWS Secret Manager)\n",
    "\n",
    "Let's now send a request to our webserver!"
   ]
  },
  {
   "cell_type": "code",
   "execution_count": 8,
   "id": "ff4ec779-1bda-4eeb-b9ad-5de0e291b47e",
   "metadata": {},
   "outputs": [
    {
     "name": "stdout",
     "output_type": "stream",
     "text": [
      "Requirement already satisfied: requests in c:\\users\\marco\\pycharmprojects\\marketing_automation\\venv_38_aws\\lib\\site-packages (2.28.2)\n",
      "Requirement already satisfied: charset-normalizer<4,>=2 in c:\\users\\marco\\pycharmprojects\\marketing_automation\\venv_38_aws\\lib\\site-packages (from requests) (3.2.0)\n",
      "Requirement already satisfied: idna<4,>=2.5 in c:\\users\\marco\\pycharmprojects\\marketing_automation\\venv_38_aws\\lib\\site-packages (from requests) (3.4)\n",
      "Requirement already satisfied: urllib3<1.27,>=1.21.1 in c:\\users\\marco\\pycharmprojects\\marketing_automation\\venv_38_aws\\lib\\site-packages (from requests) (1.26.16)\n",
      "Requirement already satisfied: certifi>=2017.4.17 in c:\\users\\marco\\pycharmprojects\\marketing_automation\\venv_38_aws\\lib\\site-packages (from requests) (2023.5.7)\n"
     ]
    },
    {
     "name": "stderr",
     "output_type": "stream",
     "text": [
      "\n",
      "[notice] A new release of pip available: 22.3.1 -> 23.2.1\n",
      "[notice] To update, run: python.exe -m pip install --upgrade pip\n"
     ]
    }
   ],
   "source": [
    "!pip install requests\n",
    "import requests"
   ]
  },
  {
   "cell_type": "code",
   "execution_count": 9,
   "id": "6d2d0703-c84a-4ac8-9796-4cd064a8e0ad",
   "metadata": {},
   "outputs": [
    {
     "data": {
      "text/plain": [
       "{'Hello': 'World'}"
      ]
     },
     "execution_count": 9,
     "metadata": {},
     "output_type": "execute_result"
    }
   ],
   "source": [
    "url = \"https://cmamp322z2.eu-central-1.awsapprunner.com\"\n",
    "response = requests.get(url)\n",
    "response.json()"
   ]
  },
  {
   "cell_type": "code",
   "execution_count": 10,
   "id": "dbedbf2c-fab4-465e-8b6f-7c1a6b203e7b",
   "metadata": {},
   "outputs": [
    {
     "data": {
      "text/plain": [
       "{'request_queue_id': 321}"
      ]
     },
     "execution_count": 10,
     "metadata": {},
     "output_type": "execute_result"
    }
   ],
   "source": [
    "# Let's generate some business name suggestions!\n",
    "url = \"https://cmamp322z2.eu-central-1.awsapprunner.com/generate_business_names_api/3535\"\n",
    "response = requests.post(url)\n",
    "data = response.json()\n",
    "\n",
    "request_queue_id = data[\"request_queue_id\"]\n",
    "data"
   ]
  },
  {
   "cell_type": "markdown",
   "id": "8858b574-b6f3-48e2-915e-ac5054441aa0",
   "metadata": {},
   "source": [
    "Every I/O bound request is inserted in a request queue table.\n",
    "We can check the results of our request accessing the table.\n",
    "\n",
    "This would be much faster using a Redis cache, but to keep a simpler infrastructure we are just using another PostgreSQL table in our existing db."
   ]
  },
  {
   "cell_type": "code",
   "execution_count": 28,
   "id": "b0dd4c15-8fcf-4fce-a15a-bf04ca06be24",
   "metadata": {},
   "outputs": [
    {
     "data": {
      "text/html": [
       "<div>\n",
       "<style scoped>\n",
       "    .dataframe tbody tr th:only-of-type {\n",
       "        vertical-align: middle;\n",
       "    }\n",
       "\n",
       "    .dataframe tbody tr th {\n",
       "        vertical-align: top;\n",
       "    }\n",
       "\n",
       "    .dataframe thead th {\n",
       "        text-align: right;\n",
       "    }\n",
       "</style>\n",
       "<table border=\"1\" class=\"dataframe\">\n",
       "  <thead>\n",
       "    <tr style=\"text-align: right;\">\n",
       "      <th></th>\n",
       "      <th>id</th>\n",
       "      <th>request_url</th>\n",
       "      <th>status</th>\n",
       "      <th>exception</th>\n",
       "      <th>response</th>\n",
       "    </tr>\n",
       "  </thead>\n",
       "  <tbody>\n",
       "    <tr>\n",
       "      <th>318</th>\n",
       "      <td>321</td>\n",
       "      <td>http://cmamp322z2.eu-central-1.awsapprunner.co...</td>\n",
       "      <td>COMPLETE</td>\n",
       "      <td>None</td>\n",
       "      <td>{'business_names': ['Garden Delights', 'Green ...</td>\n",
       "    </tr>\n",
       "    <tr>\n",
       "      <th>317</th>\n",
       "      <td>320</td>\n",
       "      <td>http://cmamp322z2.eu-central-1.awsapprunner.co...</td>\n",
       "      <td>COMPLETE</td>\n",
       "      <td>None</td>\n",
       "      <td>{'business_names': ['Garden Delights', 'Fresh ...</td>\n",
       "    </tr>\n",
       "    <tr>\n",
       "      <th>316</th>\n",
       "      <td>319</td>\n",
       "      <td>http://cmamp322z2.eu-central-1.awsapprunner.co...</td>\n",
       "      <td>COMPLETE</td>\n",
       "      <td>None</td>\n",
       "      <td>{'business_names': ['Garden Delights', 'Green ...</td>\n",
       "    </tr>\n",
       "    <tr>\n",
       "      <th>315</th>\n",
       "      <td>318</td>\n",
       "      <td>http://cmamp322z2.eu-central-1.awsapprunner.co...</td>\n",
       "      <td>COMPLETE</td>\n",
       "      <td>None</td>\n",
       "      <td>{'target_market': 'Il mercato di riferimento d...</td>\n",
       "    </tr>\n",
       "    <tr>\n",
       "      <th>314</th>\n",
       "      <td>317</td>\n",
       "      <td>http://cmamp322z2.eu-central-1.awsapprunner.co...</td>\n",
       "      <td>COMPLETE</td>\n",
       "      <td>None</td>\n",
       "      <td>{'founder_info': 'Sono Matteo Tegnenti, fondat...</td>\n",
       "    </tr>\n",
       "    <tr>\n",
       "      <th>...</th>\n",
       "      <td>...</td>\n",
       "      <td>...</td>\n",
       "      <td>...</td>\n",
       "      <td>...</td>\n",
       "      <td>...</td>\n",
       "    </tr>\n",
       "    <tr>\n",
       "      <th>4</th>\n",
       "      <td>7</td>\n",
       "      <td>/</td>\n",
       "      <td>IN_PROGRESS</td>\n",
       "      <td>None</td>\n",
       "      <td>None</td>\n",
       "    </tr>\n",
       "    <tr>\n",
       "      <th>3</th>\n",
       "      <td>6</td>\n",
       "      <td>/</td>\n",
       "      <td>IN_PROGRESS</td>\n",
       "      <td>None</td>\n",
       "      <td>None</td>\n",
       "    </tr>\n",
       "    <tr>\n",
       "      <th>2</th>\n",
       "      <td>5</td>\n",
       "      <td>/</td>\n",
       "      <td>IN_PROGRESS</td>\n",
       "      <td>None</td>\n",
       "      <td>None</td>\n",
       "    </tr>\n",
       "    <tr>\n",
       "      <th>1</th>\n",
       "      <td>2</td>\n",
       "      <td>/</td>\n",
       "      <td>IN_PROGRESS</td>\n",
       "      <td>None</td>\n",
       "      <td>None</td>\n",
       "    </tr>\n",
       "    <tr>\n",
       "      <th>0</th>\n",
       "      <td>1</td>\n",
       "      <td>/</td>\n",
       "      <td>IN_PROGRESS</td>\n",
       "      <td>None</td>\n",
       "      <td>None</td>\n",
       "    </tr>\n",
       "  </tbody>\n",
       "</table>\n",
       "<p>319 rows × 5 columns</p>\n",
       "</div>"
      ],
      "text/plain": [
       "      id                                        request_url       status  \\\n",
       "318  321  http://cmamp322z2.eu-central-1.awsapprunner.co...     COMPLETE   \n",
       "317  320  http://cmamp322z2.eu-central-1.awsapprunner.co...     COMPLETE   \n",
       "316  319  http://cmamp322z2.eu-central-1.awsapprunner.co...     COMPLETE   \n",
       "315  318  http://cmamp322z2.eu-central-1.awsapprunner.co...     COMPLETE   \n",
       "314  317  http://cmamp322z2.eu-central-1.awsapprunner.co...     COMPLETE   \n",
       "..   ...                                                ...          ...   \n",
       "4      7                                                  /  IN_PROGRESS   \n",
       "3      6                                                  /  IN_PROGRESS   \n",
       "2      5                                                  /  IN_PROGRESS   \n",
       "1      2                                                  /  IN_PROGRESS   \n",
       "0      1                                                  /  IN_PROGRESS   \n",
       "\n",
       "    exception                                           response  \n",
       "318      None  {'business_names': ['Garden Delights', 'Green ...  \n",
       "317      None  {'business_names': ['Garden Delights', 'Fresh ...  \n",
       "316      None  {'business_names': ['Garden Delights', 'Green ...  \n",
       "315      None  {'target_market': 'Il mercato di riferimento d...  \n",
       "314      None  {'founder_info': 'Sono Matteo Tegnenti, fondat...  \n",
       "..        ...                                                ...  \n",
       "4        None                                               None  \n",
       "3        None                                               None  \n",
       "2        None                                               None  \n",
       "1        None                                               None  \n",
       "0        None                                               None  \n",
       "\n",
       "[319 rows x 5 columns]"
      ]
     },
     "execution_count": 28,
     "metadata": {},
     "output_type": "execute_result"
    }
   ],
   "source": [
    "import sys\n",
    "import os\n",
    "\n",
    "module_path = os.path.abspath(os.path.join('..'))\n",
    "if module_path not in sys.path:\n",
    "    sys.path.append(module_path)\n",
    "\n",
    "from db.db_manager import get_df_from_table\n",
    "\n",
    "# helper function that queries the database and returns a pandas DataFrame\n",
    "df = get_df_from_table(\"request_queue\").sort_values(by=\"id\", ascending=False)\n",
    "df"
   ]
  },
  {
   "cell_type": "code",
   "execution_count": 29,
   "id": "8c0c1a9c-f43a-4d9b-986c-71c5af7dcb08",
   "metadata": {},
   "outputs": [],
   "source": [
    "# Here the business names suggested\n",
    "business_names = df.loc[df[\"id\"]==request_queue_id, \"response\"].iloc[0]"
   ]
  },
  {
   "cell_type": "code",
   "execution_count": 30,
   "id": "259ec172-d6f2-4846-b1e2-027277cf3d7e",
   "metadata": {},
   "outputs": [
    {
     "data": {
      "text/plain": [
       "{'business_names': ['Garden Delights',\n",
       "  'Green Thumb Produce',\n",
       "  'The Village Garden',\n",
       "  \"Nature's Bounty\",\n",
       "  'Seedlings & More',\n",
       "  'Fresh Harvest',\n",
       "  'The Veggie Patch',\n",
       "  'Farm to Fork',\n",
       "  'Nurturing Nature',\n",
       "  'Garden Gurus']}"
      ]
     },
     "execution_count": 30,
     "metadata": {},
     "output_type": "execute_result"
    }
   ],
   "source": [
    "business_names"
   ]
  },
  {
   "cell_type": "markdown",
   "id": "7a0d24ad-8601-431e-a0e9-6552ce771096",
   "metadata": {},
   "source": [
    "You can check all the available endpoints at this url:\n",
    "\n",
    "https://cmamp322z2.eu-central-1.awsapprunner.com/docs"
   ]
  },
  {
   "cell_type": "markdown",
   "id": "fc147ffc-29f5-42cb-b94c-dc6e8346efc3",
   "metadata": {},
   "source": [
    "<a id='nextjs'></a>\n",
    "### Next.js\n",
    "\n",
    "Next.js is a React framework for building full-stack web applications. \n",
    "It also has improved support for TypeScript, with better type checking and more efficient compilation.\n",
    "\n",
    "https://nextjs.org/\n",
    "\n",
    "Vercel is a cloud platform that helps you develop, preview, and ship web applications with React and other frontend frameworks. It offers features such as serverless functions, global edge network, automatic previews, and more. It is also the creator of NextJs thus allow an extremely fast deploy experience for simple projects like this one.\n",
    "\n",
    "https://vercel.com/\n",
    "\n",
    "\n",
    "We created a simple frontend that allow us to connect with the backend and generate all kind of content we need through openAI APIs.\n",
    "\n",
    "The frontend structure is composed of a main home page, where it is possible look to all business ideas. A business page that allows to generate the sections of the selecte business.\n",
    "\n",
    "It is also possible to sign in with a Gmail account to save the generated content, and retrieve it aftewards."
   ]
  },
  {
   "cell_type": "markdown",
   "id": "c7a57d1c-2966-4c75-ac25-c572252bec00",
   "metadata": {},
   "source": [
    "![frontend1](../images/frontend_screenshot.png)"
   ]
  },
  {
   "cell_type": "markdown",
   "id": "cb73f522-4d4b-4575-8a3e-5473b9b986c2",
   "metadata": {},
   "source": [
    "![frontend2](../images/frontend_screenshot2.png)"
   ]
  },
  {
   "cell_type": "markdown",
   "id": "ec428113-4846-4408-9bd4-7e995dc7c03d",
   "metadata": {},
   "source": [
    "![frontend3](../images/frontend_screenshot3.png)"
   ]
  },
  {
   "cell_type": "markdown",
   "id": "e0585f4e-9a8e-43c7-b481-1a7a8a13893b",
   "metadata": {},
   "source": [
    "Try it yourself at https://smark-frontend.vercel.app !"
   ]
  },
  {
   "cell_type": "markdown",
   "id": "8201dd59-ed83-437c-9dd6-1d8f02cf660d",
   "metadata": {},
   "source": [
    "<a id='social'></a>\n",
    "### Social Management\n",
    "\n",
    "We also created a Social management module (currently not available on our frontend) to be able to programmatically post, retrieve engagement metrics and manage user comments!\n",
    "\n",
    "The idea is to be able to automatize social media management and customer support both reducing the cost and time expenditures for the business, while also improving the customer support quality for the business.\n",
    "\n",
    "This last part is debatable, but with the correct context a customer support bot powered by OpenAI models is super helpful. Nowhere near the chatbots we are currently finding on most websites. We believe it can almost be at par with a human if provided all relevant context information. Without the possible human errors.\n",
    "\n",
    "The challenging part is providing the context, and allowing for the context to grow after experiencing different customer queries/requests.\n",
    "\n",
    "Anyway back to our technical stuff.\n",
    "\n",
    "We'll provide code examples for Facebook, but the same can be replicated for any social that provides APIs.\n",
    "\n",
    "#### Post\n",
    "To post on Facebook, and for that matter any other operation, we would need a Page Token.\n",
    "\n",
    "You can read more about OAuth2.0 and obtaining a token here:\n",
    "- https://developers.facebook.com/docs/facebook-login/guides/advanced/manual-flow/\n",
    "- https://developers.facebook.com/docs/pages/access-tokens/\n",
    "\n",
    "Posting then is as easy as it can get!\n",
    "Retrieving engagement is as trivial so we'll skip the explanation.\n",
    "\n",
    "You can find all facebook API reference here:\n",
    "\n",
    "https://developers.facebook.com/docs/graph-api/reference/"
   ]
  },
  {
   "cell_type": "code",
   "execution_count": 13,
   "id": "465c35b7-9ba7-471a-9e3e-21f36e060ff8",
   "metadata": {},
   "outputs": [
    {
     "name": "stdout",
     "output_type": "stream",
     "text": [
      "Requirement already satisfied: python-dotenv in c:\\users\\marco\\pycharmprojects\\marketing_automation\\venv_38_aws\\lib\\site-packages (1.0.0)\n"
     ]
    },
    {
     "name": "stderr",
     "output_type": "stream",
     "text": [
      "\n",
      "[notice] A new release of pip available: 22.3.1 -> 23.2.1\n",
      "[notice] To update, run: python.exe -m pip install --upgrade pip\n"
     ]
    }
   ],
   "source": [
    "!pip install python-dotenv\n",
    "from dotenv import load_dotenv\n",
    "load_dotenv()\n",
    "\n",
    "page_id = os.environ.get(\"FB_PAGE_ID\")\n",
    "token = os.environ.get(\"FB_PAGE_LONG_TOKEN\")\n",
    "\n",
    "message = \"Hi from Jupyter notebook!\"\n",
    "image = \"https://upload.wikimedia.org/wikipedia/commons/thumb/3/38/Jupyter_logo.svg/1200px-Jupyter_logo.svg.png\"\n",
    "\n",
    "# If we want to post a message (no image)\n",
    "url = f\"https://graph.facebook.com/{page_id}/feed?message={message}&access_token={token}\"\n",
    "\n",
    "# If we want to post a photo (post + image or only image)\n",
    "url = f\"https://graph.facebook.com/{page_id}/photos?url={image}&message={message}&access_token={token}\""
   ]
  },
  {
   "cell_type": "code",
   "execution_count": 14,
   "id": "9351632a-9974-4a0a-b49b-3d372e477f9c",
   "metadata": {},
   "outputs": [],
   "source": [
    "response = requests.post(url)"
   ]
  },
  {
   "cell_type": "code",
   "execution_count": 15,
   "id": "b2985ffd-9385-41eb-992c-de960d4281f1",
   "metadata": {},
   "outputs": [
    {
     "data": {
      "text/plain": [
       "'{\"id\":\"765113262281255\",\"post_id\":\"108938007630581_765113275614587\"}'"
      ]
     },
     "execution_count": 15,
     "metadata": {},
     "output_type": "execute_result"
    }
   ],
   "source": [
    "response.text"
   ]
  },
  {
   "cell_type": "markdown",
   "id": "e751b403-7fa3-4e16-9c49-37ac685a83c6",
   "metadata": {},
   "source": [
    "![fbpost](../images/fb_post.png)"
   ]
  },
  {
   "cell_type": "markdown",
   "id": "5a87a958-99c9-46f2-a33d-828062d35b7f",
   "metadata": {},
   "source": [
    "#### Comment Management\n",
    "To manage comments in automatic we need some way to keep track of all our posts and all the comments under those.\n",
    "\n",
    "As comments in Facebook assume a tree/nested structure we also need some way to go through the structure and retrieve them.\n",
    "\n",
    "Then we can use our OpenAI model to create the reply for each message."
   ]
  },
  {
   "cell_type": "code",
   "execution_count": 16,
   "id": "bdfc9a3c-9241-440d-88bd-a57aa3f8b964",
   "metadata": {},
   "outputs": [],
   "source": [
    "from db.db_manager import get_post_from_id, get_social_from_id, full_business_info_as_text, get_business_from_id, \\\n",
    "update_social_post, insert_df_into_table\n",
    "\n",
    "def get_post_comments(post_id):\n",
    "\n",
    "    # get the post, social and business from our db\n",
    "    post = get_post_from_id(post_id)\n",
    "    social = get_social_from_id(post.social_id)\n",
    "    business = get_business_from_id(social.business_id)\n",
    "    token = social.page_token\n",
    "\n",
    "    # we store the comments we have already managed in a string column in our post table\n",
    "    if post.managed_comments is None:\n",
    "        managed_comments = []\n",
    "    else:\n",
    "        managed_comments = eval(post.managed_comments)\n",
    "\n",
    "    # create a business description for the chatbot context\n",
    "    business_info = full_business_info_as_text(\n",
    "        social.business_id,\n",
    "        [\"name\", \"founder_info\", \"description\", \"products_and_services_detailed\", \"competitive_advantage\"])\n",
    "\n",
    "    # initialize variables\n",
    "    comments_data = []\n",
    "    comment_history = \"\"\n",
    "\n",
    "    # this is a recursive method we are going to call to traverse all the comments\n",
    "    managed_comments, comments_data = manage_comments_recursive(\n",
    "        business_info, post, social.remote_id + \"_\" + post.remote_id, social.remote_id, token, comment_history,\n",
    "        managed_comments, comments_data)\n",
    "\n",
    "    return managed_comments, comments_data"
   ]
  },
  {
   "cell_type": "code",
   "execution_count": 17,
   "id": "94236059-30e4-4bed-b668-634569992b27",
   "metadata": {},
   "outputs": [],
   "source": [
    "import re\n",
    "from llm_manager.openai_api import openai_request_sync\n",
    "\n",
    "def manage_comments_recursive(business_info, post, object_id, fb_page_id, token, comment_history_start,\n",
    "                              managed_comments, comments_data):\n",
    "    \n",
    "    headline = post.headline\n",
    "    content = post.content\n",
    "    article = post.article\n",
    "\n",
    "    # get comments for the current node\n",
    "    url = f\"https://graph.facebook.com/{object_id}/comments?access_token={token}\"\n",
    "\n",
    "    response = requests.get(url)\n",
    "    data = response.json()\n",
    "\n",
    "    # for each comment\n",
    "    for c in data[\"data\"]:\n",
    "\n",
    "        # comment text\n",
    "        comment = c[\"message\"]\n",
    "\n",
    "        # remove words starting with @\n",
    "        comment = re.sub(r'@\\w+(\\.\\w+)*\\s?', '', comment)\n",
    "\n",
    "        # comment_id, to see if we already managed this comment\n",
    "        comment_id = c[\"id\"]\n",
    "\n",
    "        # is a comment from a user or from us?\n",
    "        user_comment = c[\"from\"][\"id\"] != fb_page_id\n",
    "        commenter = \"user\" if user_comment else \"business\"\n",
    "\n",
    "        # build comment history context while we traverse the tree\n",
    "        comment_history = comment_history_start + f\"\\n- {commenter}: {comment}\"\n",
    "\n",
    "        if user_comment and comment_id not in managed_comments:\n",
    "\n",
    "            language = \"English\"\n",
    "\n",
    "            # get OpenAI model prompt\n",
    "            with open(os.path.join(os.path.abspath(os.path.join('..')), \"prompt\\\\manage_comments_recursive\"), 'r') as file:\n",
    "                prompt = eval(file.read())\n",
    "\n",
    "            # call OpenAI API\n",
    "            response, tokens = openai_request_sync(prompt)\n",
    "\n",
    "            reply = response[\"reply\"]\n",
    "\n",
    "            comments_data.append({\n",
    "                \"post_id\": post.id,\n",
    "                \"remote_id\": comment_id,\n",
    "                \"sender\": str(c[\"from\"]),\n",
    "                \"receive_time\": c[\"created_time\"],\n",
    "                \"content\": comment,\n",
    "                \"reply\": reply,\n",
    "            })\n",
    "\n",
    "            managed_comments.append(comment_id)\n",
    "\n",
    "        # call the same method recursively on the comment to explore its comments (if any)\n",
    "        managed_comments, comments_data = manage_comments_recursive(\n",
    "            business_info, post, comment_id, fb_page_id, token, comment_history, managed_comments, comments_data)\n",
    "\n",
    "    return managed_comments, comments_data"
   ]
  },
  {
   "cell_type": "code",
   "execution_count": 18,
   "id": "9bc97e72-79e1-4d2e-b178-1648f7a0a65f",
   "metadata": {},
   "outputs": [],
   "source": [
    "managed_comments, comments_data = get_post_comments(1)"
   ]
  },
  {
   "cell_type": "code",
   "execution_count": 19,
   "id": "ac3b960b-9c4b-4252-beb2-f6fe5beab18d",
   "metadata": {},
   "outputs": [
    {
     "name": "stdout",
     "output_type": "stream",
     "text": [
      "prova commento mistery => Thank you for your comment! If you have any questions or need any gardening tips, feel free to ask. We're here to help!\n",
      "\n",
      "Prova commento => Thank you for your comment! We're glad you're interested in learning the secrets of successful cultivation. Ezio, our expert horticulturist, will be happy to share his knowledge and techniques with you. Stay tuned for more updates!\n",
      "\n",
      "Logiko.io prova commento innestato => Thank you for your comment! If you have any questions about our products or gardening tips, feel free to ask. We're here to help!\n",
      "\n",
      "Prova commento 2 => Thank you for your comment! If you have any questions about our products or gardening tips, feel free to ask. We're here to help!\n",
      "\n",
      "Logiko.io chi è Ezio? => Ezio è il fondatore di Le Piantine di Ezio, un esperto orticoltore con una grande passione per l'orticultura. Ha trascorso tutta la sua vita coltivando frutta, verdura e piantine nel suo orto. Ora, in pensione all'età di 67 anni, desidera condividere i prodotti del suo orto con il maggior numero possibile di persone e insegnare ad altri a coltivare con la stessa passione. Grazie per il tuo interesse!\n",
      "\n",
      "{'customer_comment': 'Ciao! Sono molto interessato a imparare i segreti per una coltivazione di successo. Mi piacerebbe sapere quali sono le tecniche migliori per la semina e la cura delle piante. Inoltre, vorrei avere qualche consiglio su come ottenere ortaggi sani e abbondanti. Grazie in anticipo per le vostre preziose informazioni!'} => Thank you for your interest in learning the secrets to successful cultivation! We are delighted to share with you the best techniques for sowing and caring for plants. Our expert horticulturist, Ezio, will provide valuable advice on how to achieve healthy and abundant vegetables. Stay tuned for more tips from our true gardening master!\n",
      "\n",
      "{'customer_comment': 'Ciao! Sono molto interessato a imparare i segreti della coltivazione di successo. Potresti dirmi quali sono le tecniche migliori per la semina e la cura delle piante? Mi piacerebbe anche sapere se ci sono consigli specifici per ottenere ortaggi sani e abbondanti. Grazie mille!'} => Thank you for your interest in learning the secrets of successful cultivation! We are glad to share with you the best techniques for sowing and caring for plants. To ensure healthy and abundant vegetables, it's important to provide proper soil preparation, regular watering, and adequate sunlight. Additionally, using organic fertilizers and practicing crop rotation can help maintain plant health. Feel free to ask any specific questions you may have, and we'll be happy to assist you further. Happy gardening!\n",
      "\n"
     ]
    }
   ],
   "source": [
    "for comment in comments_data:\n",
    "    print(f\"{comment['content']} => {comment['reply']}\\n\")"
   ]
  },
  {
   "cell_type": "markdown",
   "id": "df9c4de6-a293-45c6-862c-c0c40f533e23",
   "metadata": {},
   "source": [
    "We can then store the replies, review/edit them and send them!"
   ]
  },
  {
   "cell_type": "markdown",
   "id": "9fd42607-db40-4ceb-9069-0fa96b81ad6a",
   "metadata": {},
   "source": [
    "<a id='email'></a>\n",
    "### Email Management\n",
    "\n",
    "We also created an Email management module (currently not available on our frontend) to be able to programmatically retrieve received emails and manage users' queries.\n",
    "\n",
    "Like for the Social Management module, the idea is to automatize the customer support via email."
   ]
  },
  {
   "cell_type": "code",
   "execution_count": 20,
   "id": "7201974d-29ea-44be-a034-943038193566",
   "metadata": {},
   "outputs": [],
   "source": [
    "import imaplib, email\n",
    "\n",
    "from email_manager import process_email_part, process_plain_text_part\n",
    "\n",
    "def retrieve_emails_from_server(num_emails=3):\n",
    "\n",
    "    load_dotenv()\n",
    "    imap_server = os.environ.get(\"EMAIL_IMAP_SERVER\")\n",
    "    username = os.environ.get(\"EMAIL_USERNAME\")\n",
    "    password = os.environ.get(\"EMAIL_PASSWORD\")\n",
    "\n",
    "    imap = None\n",
    "\n",
    "    try:\n",
    "        imap = imaplib.IMAP4_SSL(imap_server)\n",
    "        imap.login(username, password)\n",
    "        status, messages = imap.select(\"INBOX\")\n",
    "        messages = int(messages[0])\n",
    "\n",
    "        result = []\n",
    "\n",
    "        start_remote_id = messages - num_emails\n",
    "\n",
    "        for i in range(start_remote_id + 1, messages + 1):\n",
    "\n",
    "            d = {}\n",
    "\n",
    "            # fetch the message by ID\n",
    "            res, msg = imap.fetch(str(i), \"(RFC822)\")\n",
    "\n",
    "            # parse the message into an email_manager object\n",
    "            msg = email.message_from_bytes(msg[0][1]) # sync\n",
    "\n",
    "            # retrieve email metadata\n",
    "            d[\"sender\"] = msg[\"From\"]\n",
    "            date = msg[\"Date\"] if msg[\"Date\"] is not None else msg[\"Delivery-date\"]\n",
    "            d[\"receive_time\"] = date\n",
    "            d[\"subject\"] = msg['Subject']\n",
    "            d[\"recipient\"] = \";\".join(msg.get_all('To', []))\n",
    "            d[\"cc\"] = \";\".join(msg.get_all('Cc', []))\n",
    "            d[\"remote_id\"] = i\n",
    "\n",
    "            # retrieve email content (we want to extract the text from the multipart)\n",
    "            for part in msg.walk():\n",
    "                part_content_raw, part_content_clean = process_plain_text_part(part)\n",
    "                if part_content_raw is not None:\n",
    "                    d[\"content\"] = part_content_clean\n",
    "                    d[\"content_raw\"] = part_content_raw\n",
    "                    break\n",
    "                else:\n",
    "                    part_content_raw, part_content_clean = process_email_part(part)\n",
    "                    if part_content_raw is not None:\n",
    "                        d[\"content\"] = part_content_clean\n",
    "                        d[\"content_raw\"] = part_content_raw\n",
    "                        break\n",
    "\n",
    "            result.append(d)\n",
    "    finally:\n",
    "        if imap is not None:\n",
    "            imap.logout()\n",
    "\n",
    "    return result"
   ]
  },
  {
   "cell_type": "code",
   "execution_count": 21,
   "id": "39d7dc71-7389-4e71-890b-6a56dfb12d46",
   "metadata": {},
   "outputs": [
    {
     "data": {
      "text/plain": [
       "[{'sender': 'mistery@easymap-software.com',\n",
       "  'receive_time': 'Fri, 04 Aug 2023 16:02:59 +0000',\n",
       "  'subject': 'Inquiry about Fresh, Locally Sourced Produce',\n",
       "  'recipient': 'lepiantinediezio@easymap-software.com',\n",
       "  'cc': '',\n",
       "  'remote_id': 12,\n",
       "  'content': 'From: Emily Johnson To: marketing@company.com Dear Sir/Madam, I hope this email finds you well. My name is Emily Johnson, and I recently came across an article on your company blog titled \"Discover the Delights of Fresh, Locally Sourced Produce.\" I was intrigued by the information provided and would like to learn more about your offerings. The article mentioned the advantages of consuming fresh, locally sourced produce, such as supporting local agriculture, enjoying superior taste and quality, and the positive impact on the environment. I am particularly interested in understanding how your company ensures the freshness and quality of the produce you offer. Could you please provide me with more information about your sourcing process? How do you select the local farmers you work with? Do you have any certifications or quality control measures in place to guarantee the freshness and nutritional value of the produce? Additionally, I would like to know if you have any upcoming events, such as farmers\\' markets or community-supported agriculture (CSA) programs, where I can directly connect with local farmers and explore the freshest produce available. I appreciate your time and look forward to hearing from you soon. Thank you for your assistance. Kind regards, Emily Johnson',\n",
       "  'content_raw': 'From: Emily Johnson\\r\\nTo: marketing@company.com\\r\\n\\r\\nDear Sir/Madam,\\r\\n\\r\\nI hope this email finds you well. My name is Emily Johnson, and I recently came across an article on your company blog titled \"Discover the Delights of Fresh, Locally Sourced Produce.\" I was intrigued by the information provided and would like to learn more about your offerings.\\r\\n\\r\\nThe article mentioned the advantages of consuming fresh, locally sourced produce, such as supporting local agriculture, enjoying superior taste and quality, and the positive impact on the environment. I am particularly interested in understanding how your company ensures the freshness and quality of the produce you offer.\\r\\n\\r\\nCould you please provide me with more information about your sourcing process? How do you select the local farmers you work with? Do you have any certifications or quality control measures in place to guarantee the freshness and nutritional value of the produce?\\r\\n\\r\\nAdditionally, I would like to know if you have any upcoming events, such as farmers\\' markets or community-supported agriculture (CSA) programs, where I can directly connect with local farmers and explore the freshest produce available.\\r\\n\\r\\nI appreciate your time and look forward to hearing from you soon. Thank you for your assistance.\\r\\n\\r\\nKind regards,\\r\\nEmily Johnson\\r\\n'},\n",
       " {'sender': 'mistery@easymap-software.com',\n",
       "  'receive_time': 'Fri, 04 Aug 2023 16:03:13 +0000',\n",
       "  'subject': 'Interested in learning more!',\n",
       "  'recipient': 'lepiantinediezio@easymap-software.com',\n",
       "  'cc': '',\n",
       "  'remote_id': 13,\n",
       "  'content': \"Hello George, Thank you for reaching out and sharing the exciting news about the seasonal produce subscription boxes. As someone who values fresh and high-quality produce, I am definitely interested in learning more. Could you please provide me with additional information about the subscription boxes? Specifically, I would like to know: 1. What types of fruits and vegetables are typically included in the boxes? 2. How often are the boxes delivered? 3. What is the pricing structure for the subscription? 4. Are there any customization options available for the boxes? I appreciate your commitment to supporting local agriculture and reducing carbon footprint. It's great to see a business that prioritizes sustainability. Looking forward to hearing from you soon! Best regards, Emily Thompson\",\n",
       "  'content_raw': \"Hello George,\\r\\n\\r\\nThank you for reaching out and sharing the exciting news about the seasonal produce subscription boxes. As someone who values fresh and high-quality produce, I am definitely interested in learning more.\\r\\n\\r\\nCould you please provide me with additional information about the subscription boxes? Specifically, I would like to know:\\r\\n\\r\\n1. What types of fruits and vegetables are typically included in the boxes?\\r\\n2. How often are the boxes delivered?\\r\\n3. What is the pricing structure for the subscription?\\r\\n4. Are there any customization options available for the boxes?\\r\\n\\r\\nI appreciate your commitment to supporting local agriculture and reducing carbon footprint. It's great to see a business that prioritizes sustainability.\\r\\n\\r\\nLooking forward to hearing from you soon!\\r\\n\\r\\nBest regards,\\r\\nEmily Thompson\\r\\n\"},\n",
       " {'sender': 'mistery@easymap-software.com',\n",
       "  'receive_time': 'Fri, 04 Aug 2023 16:13:32 +0000',\n",
       "  'subject': 'Inquiry about Garden Delights',\n",
       "  'recipient': 'lepiantinediezio@easymap-software.com',\n",
       "  'cc': '',\n",
       "  'remote_id': 14,\n",
       "  'content': \"Dear Garden Delights Team, I hope this email finds you well. My name is Emily Greenfield, and I recently received your email about discovering the secrets to a successful garden. I must say, I was intrigued by your offerings and wanted to learn more. Firstly, I would like to know if you have any specific tips for growing herbs in a small apartment. I have always wanted to have a small herb garden indoors, but I'm not sure where to start. Do you offer any workshops or consultations specifically for urban gardening? Additionally, I noticed that you mentioned customized garden installations. I have a small balcony that I would love to transform into a cozy garden oasis. Could you provide me with more information about this service, including the pricing and the types of plants that would be suitable for such a space? Lastly, I appreciate your commitment to sustainability and community engagement. Could you please share more details about the sustainable farming practices you implement? I am passionate about supporting businesses that prioritize the environment. Thank you in advance for your assistance. I look forward to hearing from you soon. Best regards, Emily Greenfield\",\n",
       "  'content_raw': \"Dear Garden Delights Team,\\r\\n\\r\\nI hope this email finds you well. My name is Emily Greenfield, and I recently received your email about discovering the secrets to a successful garden. I must say, I was intrigued by your offerings and wanted to learn more.\\r\\n\\r\\nFirstly, I would like to know if you have any specific tips for growing herbs in a small apartment. I have always wanted to have a small herb garden indoors, but I'm not sure where to start. Do you offer any workshops or consultations specifically for urban gardening?\\r\\n\\r\\nAdditionally, I noticed that you mentioned customized garden installations. I have a small balcony that I would love to transform into a cozy garden oasis. Could you provide me with more information about this service, including the pricing and the types of plants that would be suitable for such a space?\\r\\n\\r\\nLastly, I appreciate your commitment to sustainability and community engagement. Could you please share more details about the sustainable farming practices you implement? I am passionate about supporting businesses that prioritize the environment.\\r\\n\\r\\nThank you in advance for your assistance. I look forward to hearing from you soon.\\r\\n\\r\\nBest regards,\\r\\nEmily Greenfield\\r\\n\"}]"
      ]
     },
     "execution_count": 21,
     "metadata": {},
     "output_type": "execute_result"
    }
   ],
   "source": [
    "emails = retrieve_emails_from_server()\n",
    "emails"
   ]
  },
  {
   "cell_type": "code",
   "execution_count": 22,
   "id": "b2320e5c-ba7b-4583-a870-0ee6aca12e41",
   "metadata": {},
   "outputs": [],
   "source": [
    "def write_email_replies(emails, business_id):\n",
    "\n",
    "    business = get_business_from_id(business_id)\n",
    "    business_info = full_business_info_as_text(\n",
    "        business_id,\n",
    "        [\"name\", \"founder_info\", \"description\", \"competitive_advantage\", \"products_and_services_detailed\"])\n",
    "\n",
    "    signature = business.name\n",
    "    language = \"English\"\n",
    "\n",
    "    for em in emails:\n",
    "        sender = em[\"sender\"]\n",
    "        subject = em[\"subject\"]\n",
    "        content = em[\"content\"]\n",
    "\n",
    "        # get OpenAI model prompt\n",
    "        with open(os.path.join(os.path.abspath(os.path.join('..')), \"prompt\\\\write_email_replies\"), 'r') as file:\n",
    "            prompt = eval(file.read())\n",
    "\n",
    "        # call OpenAI API\n",
    "        response, tokens = openai_request_sync(prompt, context=\"long\")\n",
    "        \n",
    "        em[\"reply\"] = response[\"reply\"]\n",
    "\n",
    "    return emails"
   ]
  },
  {
   "cell_type": "code",
   "execution_count": 23,
   "id": "d9e88267-57cb-4397-ad66-1a8f0db04b8a",
   "metadata": {},
   "outputs": [],
   "source": [
    "emails_replies = write_email_replies(emails, 3535)"
   ]
  },
  {
   "cell_type": "code",
   "execution_count": 24,
   "id": "bb441d5e-3902-4353-948c-08950d4f44d0",
   "metadata": {},
   "outputs": [
    {
     "name": "stdout",
     "output_type": "stream",
     "text": [
      "From: Emily Johnson To: marketing@company.com Dear Sir/Madam, I hope this email finds you well. My name is Emily Johnson, and I recently came across an article on your company blog titled \"Discover the Delights of Fresh, Locally Sourced Produce.\" I was intrigued by the information provided and would like to learn more about your offerings. The article mentioned the advantages of consuming fresh, locally sourced produce, such as supporting local agriculture, enjoying superior taste and quality, and the positive impact on the environment. I am particularly interested in understanding how your company ensures the freshness and quality of the produce you offer. Could you please provide me with more information about your sourcing process? How do you select the local farmers you work with? Do you have any certifications or quality control measures in place to guarantee the freshness and nutritional value of the produce? Additionally, I would like to know if you have any upcoming events, such as farmers' markets or community-supported agriculture (CSA) programs, where I can directly connect with local farmers and explore the freshest produce available. I appreciate your time and look forward to hearing from you soon. Thank you for your assistance. Kind regards, Emily Johnson \n",
      "\n",
      "\t ### REPLY ### \n",
      "\n",
      " Dear Emily Johnson,\n",
      "\n",
      "Thank you for reaching out to us and expressing your interest in our fresh, locally sourced produce. We are delighted to hear that our article on the benefits of consuming fresh, locally sourced produce caught your attention.\n",
      "\n",
      "At Garden Delights, we are committed to providing our customers with the freshest and highest quality produce. We carefully select local farmers who share our passion for sustainable farming practices and prioritize the use of organic methods. Our farmers undergo a rigorous vetting process to ensure that they meet our standards for quality and environmental responsibility.\n",
      "\n",
      "To guarantee the freshness and nutritional value of our produce, we have implemented several certifications and quality control measures. We are proud to be certified organic, which means that our crops are grown without the use of harmful chemicals or pesticides. Additionally, we regularly conduct inspections and tests to ensure that our produce meets the highest standards of quality and safety.\n",
      "\n",
      "We understand your desire to connect directly with local farmers and explore the freshest produce available. We regularly participate in farmers' markets and community-supported agriculture (CSA) programs, where you can meet our farmers and purchase our products directly. We also offer seasonal produce subscription boxes, which deliver a variety of fresh, locally sourced produce right to your doorstep.\n",
      "\n",
      "If you would like more information about our upcoming events or would like to place an order, please visit our website at www.gardendelights.com. Our online store allows you to conveniently browse and order our products from the comfort of your home.\n",
      "\n",
      "Thank you once again for your inquiry. We appreciate your interest in Garden Delights and look forward to serving you with our delicious and nutritious produce.\n",
      "\n",
      "Kind regards,\n",
      "\n",
      "George Cannels\n",
      "Founder, Garden Delights\n",
      "\n",
      "=================\n",
      "\n",
      "Hello George, Thank you for reaching out and sharing the exciting news about the seasonal produce subscription boxes. As someone who values fresh and high-quality produce, I am definitely interested in learning more. Could you please provide me with additional information about the subscription boxes? Specifically, I would like to know: 1. What types of fruits and vegetables are typically included in the boxes? 2. How often are the boxes delivered? 3. What is the pricing structure for the subscription? 4. Are there any customization options available for the boxes? I appreciate your commitment to supporting local agriculture and reducing carbon footprint. It's great to see a business that prioritizes sustainability. Looking forward to hearing from you soon! Best regards, Emily Thompson \n",
      "\n",
      "\t ### REPLY ### \n",
      "\n",
      " Hello Emily,\n",
      "\n",
      "Thank you for your interest in our seasonal produce subscription boxes. We're thrilled to hear that you value fresh and high-quality produce, and we'd be happy to provide you with more information.\n",
      "\n",
      "1. Our subscription boxes typically include a variety of fruits and vegetables that are in season. This ensures that you receive the freshest and most flavorful produce throughout the year.\n",
      "\n",
      "2. The boxes are delivered on a weekly basis, allowing you to enjoy a continuous supply of fresh produce.\n",
      "\n",
      "3. Our pricing structure for the subscription is as follows:\n",
      "- Monthly subscription: $XX\n",
      "- Quarterly subscription: $XX\n",
      "- Annual subscription: $XX\n",
      "\n",
      "4. While our subscription boxes are curated based on the season's best produce, we understand that personal preferences vary. Therefore, we offer customization options where you can indicate any specific fruits or vegetables you would like to include or exclude from your box.\n",
      "\n",
      "We appreciate your support for local agriculture and sustainability. By subscribing to our service, you not only get to enjoy delicious and nutritious produce but also contribute to reducing carbon footprint.\n",
      "\n",
      "If you have any further questions or would like to proceed with the subscription, please let us know. We're here to assist you.\n",
      "\n",
      "Best regards,\n",
      "\n",
      "George Cannels\n",
      "Founder, Garden Delights\n",
      "\n",
      "0\n",
      "\n",
      "=================\n",
      "\n",
      "Dear Garden Delights Team, I hope this email finds you well. My name is Emily Greenfield, and I recently received your email about discovering the secrets to a successful garden. I must say, I was intrigued by your offerings and wanted to learn more. Firstly, I would like to know if you have any specific tips for growing herbs in a small apartment. I have always wanted to have a small herb garden indoors, but I'm not sure where to start. Do you offer any workshops or consultations specifically for urban gardening? Additionally, I noticed that you mentioned customized garden installations. I have a small balcony that I would love to transform into a cozy garden oasis. Could you provide me with more information about this service, including the pricing and the types of plants that would be suitable for such a space? Lastly, I appreciate your commitment to sustainability and community engagement. Could you please share more details about the sustainable farming practices you implement? I am passionate about supporting businesses that prioritize the environment. Thank you in advance for your assistance. I look forward to hearing from you soon. Best regards, Emily Greenfield \n",
      "\n",
      "\t ### REPLY ### \n",
      "\n",
      " Dear Emily Greenfield,\n",
      "\n",
      "Thank you for reaching out to Garden Delights. We appreciate your interest in our offerings and are excited to assist you with your gardening needs.\n",
      "\n",
      "Regarding your inquiry about growing herbs in a small apartment, we understand the challenges of limited space and are happy to provide you with tips and guidance. We offer workshops and consultations specifically tailored to urban gardening, where our experienced team will teach you how to create and maintain a thriving herb garden indoors. These sessions cover topics such as selecting the right herbs, optimizing sunlight exposure, and proper watering techniques. Please let us know your availability, and we will schedule a workshop or consultation that suits your needs.\n",
      "\n",
      "For your small balcony garden oasis, our customized garden design and installation service is the perfect solution. Our team of experts will work closely with you to understand your vision and transform your balcony into a cozy and beautiful garden space. We offer a variety of plants suitable for small spaces, including compact herbs, flowers, and ornamental plants. The pricing for our customized garden installations depends on the size and complexity of the project. We would be happy to provide you with a personalized quote based on your specific requirements.\n",
      "\n",
      "At Garden Delights, we are committed to sustainable farming practices. We prioritize the use of organic fertilizers, natural pest control methods, and water conservation techniques. Our goal is to minimize our environmental impact while providing you with the freshest and most nutritious produce. We also actively engage with the community through educational initiatives and partnerships with local organizations that share our values.\n",
      "\n",
      "We hope this information addresses your inquiries. If you have any further questions or would like to proceed with any of our services, please feel free to reach out to us. We look forward to assisting you in creating your dream garden.\n",
      "\n",
      "Best regards,\n",
      "\n",
      "George Cannels\n",
      "Founder, Garden Delights\n",
      "\n",
      "=================\n",
      "\n"
     ]
    }
   ],
   "source": [
    "for em in emails_replies:\n",
    "    print(f\"{em['content']} \\n\\n\\t ### REPLY ### \\n\\n {em['reply']}\\n\\n=================\\n\")"
   ]
  },
  {
   "cell_type": "markdown",
   "id": "7024a9ad-313d-41ea-bf58-6516c9142945",
   "metadata": {},
   "source": [
    "Like for the comments we can now store the replies, review/edit them and send them!"
   ]
  },
  {
   "cell_type": "markdown",
   "id": "8da16667-84b1-4c7c-b1be-30254be4b6d4",
   "metadata": {},
   "source": [
    "## Conclusion\n",
    "\n",
    "Visit https://smark-frontend.vercel.app to access the Marketing Automation frontend\n",
    "and unleash the power of AI-driven marketing.\n",
    "\n",
    "For any inquiries or feedback, please reach out to our team at [blacklionsrl.italia@gmail.com](mailto://blacklionsrl.italia@gmail.com)"
   ]
  }
 ],
 "metadata": {
  "kernelspec": {
   "display_name": "MarketingAutomation",
   "language": "python",
   "name": "myenv"
  },
  "language_info": {
   "codemirror_mode": {
    "name": "ipython",
    "version": 3
   },
   "file_extension": ".py",
   "mimetype": "text/x-python",
   "name": "python",
   "nbconvert_exporter": "python",
   "pygments_lexer": "ipython3",
   "version": "3.8.5"
  }
 },
 "nbformat": 4,
 "nbformat_minor": 5
}
